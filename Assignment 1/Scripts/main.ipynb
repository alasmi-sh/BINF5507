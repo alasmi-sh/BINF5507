{
 "cells": [
  {
   "cell_type": "code",
   "execution_count": 2,
   "metadata": {},
   "outputs": [
    {
     "name": "stdout",
     "output_type": "stream",
     "text": [
      "Messy data information:\n",
      "<class 'pandas.core.frame.DataFrame'>\n",
      "RangeIndex: 1196 entries, 0 to 1195\n",
      "Data columns (total 28 columns):\n",
      " #   Column  Non-Null Count  Dtype  \n",
      "---  ------  --------------  -----  \n",
      " 0   target  920 non-null    float64\n",
      " 1   a       1193 non-null   object \n",
      " 2   b       1196 non-null   float64\n",
      " 3   c       1196 non-null   int64  \n",
      " 4   d       561 non-null    object \n",
      " 5   e       1196 non-null   object \n",
      " 6   f       1196 non-null   float64\n",
      " 7   g       1196 non-null   object \n",
      " 8   h       1158 non-null   float64\n",
      " 9   i       1087 non-null   object \n",
      " 10  j       591 non-null    float64\n",
      " 11  k       1196 non-null   float64\n",
      " 12  l       1196 non-null   float64\n",
      " 13  m       778 non-null    object \n",
      " 14  n       1012 non-null   float64\n",
      " 15  o       1008 non-null   float64\n",
      " 16  p       1122 non-null   float64\n",
      " 17  q       1009 non-null   float64\n",
      " 18  r       1196 non-null   float64\n",
      " 19  s       1196 non-null   object \n",
      " 20  t       1110 non-null   float64\n",
      " 21  u       1079 non-null   float64\n",
      " 22  v       1116 non-null   float64\n",
      " 23  w       1079 non-null   float64\n",
      " 24  x       397 non-null    float64\n",
      " 25  y       1196 non-null   float64\n",
      " 26  z       598 non-null    float64\n",
      " 27  {       1122 non-null   object \n",
      "dtypes: float64(19), int64(1), object(8)\n",
      "memory usage: 261.8+ KB\n"
     ]
    },
    {
     "ename": "ValueError",
     "evalue": "could not convert string to float: 'lv hypertrophy'",
     "output_type": "error",
     "traceback": [
      "\u001b[1;31m---------------------------------------------------------------------------\u001b[0m",
      "\u001b[1;31mValueError\u001b[0m                                Traceback (most recent call last)",
      "Cell \u001b[1;32mIn[2], line 26\u001b[0m\n\u001b[0;32m     24\u001b[0m clean_data \u001b[38;5;241m=\u001b[39m dp\u001b[38;5;241m.\u001b[39mnormalize_data(clean_data, method\u001b[38;5;241m=\u001b[39m\u001b[38;5;124m\"\u001b[39m\u001b[38;5;124mminmax\u001b[39m\u001b[38;5;124m\"\u001b[39m)\n\u001b[0;32m     25\u001b[0m \u001b[38;5;66;03m# print(\"After normalize_data:\", clean_data.shape())\u001b[39;00m\n\u001b[1;32m---> 26\u001b[0m clean_data \u001b[38;5;241m=\u001b[39m \u001b[43mdp\u001b[49m\u001b[38;5;241;43m.\u001b[39;49m\u001b[43mremove_redundant_features\u001b[49m\u001b[43m(\u001b[49m\u001b[43mclean_data\u001b[49m\u001b[43m)\u001b[49m\n\u001b[0;32m     27\u001b[0m \u001b[38;5;66;03m# print(\"After remove_redundant_features:\", clean_data.shape())\u001b[39;00m\n\u001b[0;32m     28\u001b[0m \n\u001b[0;32m     29\u001b[0m \u001b[38;5;66;03m# Exploring clean data\u001b[39;00m\n\u001b[0;32m     30\u001b[0m \u001b[38;5;66;03m# print(\"Clean data information:\")\u001b[39;00m\n\u001b[0;32m     31\u001b[0m \u001b[38;5;66;03m# clean_data.head()\u001b[39;00m\n\u001b[0;32m     32\u001b[0m \u001b[38;5;66;03m# clean_data.describe()\u001b[39;00m\n\u001b[0;32m     33\u001b[0m clean_data\u001b[38;5;241m.\u001b[39minfo()\n",
      "File \u001b[1;32mc:\\Users\\da3el\\Downloads\\BINF\\sem2\\BINF5507\\Assignment1\\Assignment1\\Scripts\\data_preprocessor.py:79\u001b[0m, in \u001b[0;36mremove_redundant_features\u001b[1;34m(data, threshold)\u001b[0m\n\u001b[0;32m     72\u001b[0m \u001b[38;5;250m\u001b[39m\u001b[38;5;124;03m\"\"\"Remove redundant or duplicate columns.\u001b[39;00m\n\u001b[0;32m     73\u001b[0m \u001b[38;5;124;03m:param data: pandas DataFrame\u001b[39;00m\n\u001b[0;32m     74\u001b[0m \u001b[38;5;124;03m:param threshold: float, correlation threshold\u001b[39;00m\n\u001b[0;32m     75\u001b[0m \u001b[38;5;124;03m:return: pandas DataFrame\u001b[39;00m\n\u001b[0;32m     76\u001b[0m \u001b[38;5;124;03m\"\"\"\u001b[39;00m\n\u001b[0;32m     78\u001b[0m \u001b[38;5;66;03m# a. Calculating the correlation matrix: \u001b[39;00m\n\u001b[1;32m---> 79\u001b[0m corr_matrix \u001b[38;5;241m=\u001b[39m \u001b[43mdata\u001b[49m\u001b[38;5;241;43m.\u001b[39;49m\u001b[43mcorr\u001b[49m\u001b[43m(\u001b[49m\u001b[43m)\u001b[49m\u001b[38;5;241m.\u001b[39mabs()\n\u001b[0;32m     80\u001b[0m \u001b[38;5;66;03m# b. Defining the upper triangle: \u001b[39;00m\n\u001b[0;32m     81\u001b[0m upper_triangle \u001b[38;5;241m=\u001b[39m corr_matrix\u001b[38;5;241m.\u001b[39mwhere(np\u001b[38;5;241m.\u001b[39mtriu(np\u001b[38;5;241m.\u001b[39mones(corr_matrix\u001b[38;5;241m.\u001b[39mshape), k\u001b[38;5;241m=\u001b[39m\u001b[38;5;241m1\u001b[39m)\u001b[38;5;241m.\u001b[39mastype(\u001b[38;5;28mbool\u001b[39m))\n",
      "File \u001b[1;32mc:\\Users\\da3el\\Downloads\\BINF\\sem2\\BINF5507\\.pixi\\envs\\default\\Lib\\site-packages\\pandas\\core\\frame.py:11049\u001b[0m, in \u001b[0;36mDataFrame.corr\u001b[1;34m(self, method, min_periods, numeric_only)\u001b[0m\n\u001b[0;32m  11047\u001b[0m cols \u001b[38;5;241m=\u001b[39m data\u001b[38;5;241m.\u001b[39mcolumns\n\u001b[0;32m  11048\u001b[0m idx \u001b[38;5;241m=\u001b[39m cols\u001b[38;5;241m.\u001b[39mcopy()\n\u001b[1;32m> 11049\u001b[0m mat \u001b[38;5;241m=\u001b[39m \u001b[43mdata\u001b[49m\u001b[38;5;241;43m.\u001b[39;49m\u001b[43mto_numpy\u001b[49m\u001b[43m(\u001b[49m\u001b[43mdtype\u001b[49m\u001b[38;5;241;43m=\u001b[39;49m\u001b[38;5;28;43mfloat\u001b[39;49m\u001b[43m,\u001b[49m\u001b[43m \u001b[49m\u001b[43mna_value\u001b[49m\u001b[38;5;241;43m=\u001b[39;49m\u001b[43mnp\u001b[49m\u001b[38;5;241;43m.\u001b[39;49m\u001b[43mnan\u001b[49m\u001b[43m,\u001b[49m\u001b[43m \u001b[49m\u001b[43mcopy\u001b[49m\u001b[38;5;241;43m=\u001b[39;49m\u001b[38;5;28;43;01mFalse\u001b[39;49;00m\u001b[43m)\u001b[49m\n\u001b[0;32m  11051\u001b[0m \u001b[38;5;28;01mif\u001b[39;00m method \u001b[38;5;241m==\u001b[39m \u001b[38;5;124m\"\u001b[39m\u001b[38;5;124mpearson\u001b[39m\u001b[38;5;124m\"\u001b[39m:\n\u001b[0;32m  11052\u001b[0m     correl \u001b[38;5;241m=\u001b[39m libalgos\u001b[38;5;241m.\u001b[39mnancorr(mat, minp\u001b[38;5;241m=\u001b[39mmin_periods)\n",
      "File \u001b[1;32mc:\\Users\\da3el\\Downloads\\BINF\\sem2\\BINF5507\\.pixi\\envs\\default\\Lib\\site-packages\\pandas\\core\\frame.py:1993\u001b[0m, in \u001b[0;36mDataFrame.to_numpy\u001b[1;34m(self, dtype, copy, na_value)\u001b[0m\n\u001b[0;32m   1991\u001b[0m \u001b[38;5;28;01mif\u001b[39;00m dtype \u001b[38;5;129;01mis\u001b[39;00m \u001b[38;5;129;01mnot\u001b[39;00m \u001b[38;5;28;01mNone\u001b[39;00m:\n\u001b[0;32m   1992\u001b[0m     dtype \u001b[38;5;241m=\u001b[39m np\u001b[38;5;241m.\u001b[39mdtype(dtype)\n\u001b[1;32m-> 1993\u001b[0m result \u001b[38;5;241m=\u001b[39m \u001b[38;5;28;43mself\u001b[39;49m\u001b[38;5;241;43m.\u001b[39;49m\u001b[43m_mgr\u001b[49m\u001b[38;5;241;43m.\u001b[39;49m\u001b[43mas_array\u001b[49m\u001b[43m(\u001b[49m\u001b[43mdtype\u001b[49m\u001b[38;5;241;43m=\u001b[39;49m\u001b[43mdtype\u001b[49m\u001b[43m,\u001b[49m\u001b[43m \u001b[49m\u001b[43mcopy\u001b[49m\u001b[38;5;241;43m=\u001b[39;49m\u001b[43mcopy\u001b[49m\u001b[43m,\u001b[49m\u001b[43m \u001b[49m\u001b[43mna_value\u001b[49m\u001b[38;5;241;43m=\u001b[39;49m\u001b[43mna_value\u001b[49m\u001b[43m)\u001b[49m\n\u001b[0;32m   1994\u001b[0m \u001b[38;5;28;01mif\u001b[39;00m result\u001b[38;5;241m.\u001b[39mdtype \u001b[38;5;129;01mis\u001b[39;00m \u001b[38;5;129;01mnot\u001b[39;00m dtype:\n\u001b[0;32m   1995\u001b[0m     result \u001b[38;5;241m=\u001b[39m np\u001b[38;5;241m.\u001b[39masarray(result, dtype\u001b[38;5;241m=\u001b[39mdtype)\n",
      "File \u001b[1;32mc:\\Users\\da3el\\Downloads\\BINF\\sem2\\BINF5507\\.pixi\\envs\\default\\Lib\\site-packages\\pandas\\core\\internals\\managers.py:1694\u001b[0m, in \u001b[0;36mBlockManager.as_array\u001b[1;34m(self, dtype, copy, na_value)\u001b[0m\n\u001b[0;32m   1692\u001b[0m         arr\u001b[38;5;241m.\u001b[39mflags\u001b[38;5;241m.\u001b[39mwriteable \u001b[38;5;241m=\u001b[39m \u001b[38;5;28;01mFalse\u001b[39;00m\n\u001b[0;32m   1693\u001b[0m \u001b[38;5;28;01melse\u001b[39;00m:\n\u001b[1;32m-> 1694\u001b[0m     arr \u001b[38;5;241m=\u001b[39m \u001b[38;5;28;43mself\u001b[39;49m\u001b[38;5;241;43m.\u001b[39;49m\u001b[43m_interleave\u001b[49m\u001b[43m(\u001b[49m\u001b[43mdtype\u001b[49m\u001b[38;5;241;43m=\u001b[39;49m\u001b[43mdtype\u001b[49m\u001b[43m,\u001b[49m\u001b[43m \u001b[49m\u001b[43mna_value\u001b[49m\u001b[38;5;241;43m=\u001b[39;49m\u001b[43mna_value\u001b[49m\u001b[43m)\u001b[49m\n\u001b[0;32m   1695\u001b[0m     \u001b[38;5;66;03m# The underlying data was copied within _interleave, so no need\u001b[39;00m\n\u001b[0;32m   1696\u001b[0m     \u001b[38;5;66;03m# to further copy if copy=True or setting na_value\u001b[39;00m\n\u001b[0;32m   1698\u001b[0m \u001b[38;5;28;01mif\u001b[39;00m na_value \u001b[38;5;129;01mis\u001b[39;00m lib\u001b[38;5;241m.\u001b[39mno_default:\n",
      "File \u001b[1;32mc:\\Users\\da3el\\Downloads\\BINF\\sem2\\BINF5507\\.pixi\\envs\\default\\Lib\\site-packages\\pandas\\core\\internals\\managers.py:1753\u001b[0m, in \u001b[0;36mBlockManager._interleave\u001b[1;34m(self, dtype, na_value)\u001b[0m\n\u001b[0;32m   1751\u001b[0m     \u001b[38;5;28;01melse\u001b[39;00m:\n\u001b[0;32m   1752\u001b[0m         arr \u001b[38;5;241m=\u001b[39m blk\u001b[38;5;241m.\u001b[39mget_values(dtype)\n\u001b[1;32m-> 1753\u001b[0m     \u001b[43mresult\u001b[49m\u001b[43m[\u001b[49m\u001b[43mrl\u001b[49m\u001b[38;5;241;43m.\u001b[39;49m\u001b[43mindexer\u001b[49m\u001b[43m]\u001b[49m \u001b[38;5;241m=\u001b[39m arr\n\u001b[0;32m   1754\u001b[0m     itemmask[rl\u001b[38;5;241m.\u001b[39mindexer] \u001b[38;5;241m=\u001b[39m \u001b[38;5;241m1\u001b[39m\n\u001b[0;32m   1756\u001b[0m \u001b[38;5;28;01mif\u001b[39;00m \u001b[38;5;129;01mnot\u001b[39;00m itemmask\u001b[38;5;241m.\u001b[39mall():\n",
      "\u001b[1;31mValueError\u001b[0m: could not convert string to float: 'lv hypertrophy'"
     ]
    }
   ],
   "source": [
    "# Import necessary modules\n",
    "import data_preprocessor as dp\n",
    "import pandas as pd\n",
    "from sklearn.linear_model import LogisticRegression\n",
    "from sklearn.metrics import accuracy_score\n",
    "\n",
    "# 1. Load the dataset\n",
    "messy_data = pd.read_csv('../Data/messy_data.csv')\n",
    "# Exploring messy data:\n",
    "print(\"Messy data information:\")\n",
    "messy_data.head()\n",
    "messy_data.describe()\n",
    "messy_data.info()\n",
    "\n",
    "# Creating a copy of the messy data to modify\n",
    "clean_data = messy_data.copy()\n",
    "pd.DataFrame(clean_data)\n",
    "\n",
    "# 2. Preprocess the data\n",
    "clean_data = dp.impute_missing_values(clean_data, strategy=\"mean\")\n",
    "# print(\"After impute_missing_values:\", clean_data.shape())\n",
    "clean_data = dp.remove_duplicates(clean_data)\n",
    "# print(\"After remove_duplicates:\", clean_data.shape())\n",
    "clean_data = dp.normalize_data(clean_data, method=\"minmax\")\n",
    "# print(\"After normalize_data:\", clean_data.shape())\n",
    "clean_data = dp.remove_redundant_features(clean_data)\n",
    "# print(\"After remove_redundant_features:\", clean_data.shape())\n",
    "\n",
    "# Exploring clean data\n",
    "# print(\"Clean data information:\")\n",
    "# clean_data.head()\n",
    "# clean_data.describe()\n",
    "clean_data.info()\n",
    "\n",
    "# 3. Save the cleaned dataset\n",
    "# clean_data.to_csv('../Data/clean_data.csv', index=False)\n",
    "\n",
    "# 4. Train and evaluate the model\n",
    "dp.simple_model(clean_data)"
   ]
  }
 ],
 "metadata": {
  "kernelspec": {
   "display_name": "default",
   "language": "python",
   "name": "python3"
  },
  "language_info": {
   "codemirror_mode": {
    "name": "ipython",
    "version": 3
   },
   "file_extension": ".py",
   "mimetype": "text/x-python",
   "name": "python",
   "nbconvert_exporter": "python",
   "pygments_lexer": "ipython3",
   "version": "3.13.1"
  }
 },
 "nbformat": 4,
 "nbformat_minor": 2
}
